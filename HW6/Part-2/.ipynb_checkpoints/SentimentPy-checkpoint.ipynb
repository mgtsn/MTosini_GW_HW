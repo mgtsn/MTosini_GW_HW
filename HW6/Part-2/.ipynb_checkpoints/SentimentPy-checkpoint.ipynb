{
 "cells": [
  {
   "cell_type": "code",
   "execution_count": 1,
   "metadata": {
    "scrolled": true
   },
   "outputs": [],
   "source": [
    "# Dependencies and Setup\n",
    "import matplotlib.pyplot as plt\n",
    "import pandas as pd\n",
    "import numpy as np\n",
    "import requests\n",
    "from statistics import mean\n",
    "import tweepy\n",
    "import numpy as np\n",
    "\n",
    "# Import API key\n",
    "import sys\n",
    "sys.path.append('..\\..\\..\\config_files')\n",
    "\n",
    "from config import (consumer_key,\n",
    "                    consumer_secret,\n",
    "                    access_token,\n",
    "                    access_token_secret)\n",
    "\n",
    "#Import Sentiment Analyzer\n",
    "from vaderSentiment.vaderSentiment import SentimentIntensityAnalyzer\n",
    "analyzer = SentimentIntensityAnalyzer()"
   ]
  },
  {
   "cell_type": "code",
   "execution_count": 2,
   "metadata": {},
   "outputs": [],
   "source": [
    "#Twitter authorization\n",
    "auth = tweepy.OAuthHandler(consumer_key, consumer_secret)\n",
    "auth.set_access_token(access_token, access_token_secret)\n",
    "api = tweepy.API(auth, parser=tweepy.parsers.JSONParser())"
   ]
  },
  {
   "cell_type": "code",
   "execution_count": 3,
   "metadata": {},
   "outputs": [],
   "source": [
    "#List sources, create list to store results\n",
    "sources = ['BBC', 'CBS', 'CNN', 'foxnews', 'nytimes']\n",
    "scores = []\n",
    "pages = 5"
   ]
  },
  {
   "cell_type": "code",
   "execution_count": 7,
   "metadata": {},
   "outputs": [],
   "source": [
    "#define function to get scores from a twitter page\n",
    "#source account, its text, its date, and its compound, positive, neutral, and negative sentiment scores.\n",
    "\n",
    "data = []\n",
    "for source in sources:\n",
    "    for p in range(1, pages + 1):\n",
    "        public_tweets = api.user_timeline(source, page=p)\n",
    "        for tweet in public_tweets:\n",
    "            sentiment_scores = analyzer.polarity_scores(tweet[\"text\"])\n",
    "            results = {'Source':tweet['user']['name'], \n",
    "                       'Text':tweet['text'], \n",
    "                       'Date':tweet['created_at'], \n",
    "                       'Compound':sentiment_scores['compound'], \n",
    "                       'Positive':sentiment_scores['pos'], \n",
    "                       'Neutral':sentiment_scores['neu'], \n",
    "                       'Negative':sentiment_scores['neg']\n",
    "                      }\n",
    "            \n",
    "            data.append(results)\n",
    "    \n",
    "    "
   ]
  },
  {
   "cell_type": "code",
   "execution_count": 13,
   "metadata": {
    "scrolled": false
   },
   "outputs": [
    {
     "data": {
      "text/html": [
       "<div>\n",
       "<style scoped>\n",
       "    .dataframe tbody tr th:only-of-type {\n",
       "        vertical-align: middle;\n",
       "    }\n",
       "\n",
       "    .dataframe tbody tr th {\n",
       "        vertical-align: top;\n",
       "    }\n",
       "\n",
       "    .dataframe thead th {\n",
       "        text-align: right;\n",
       "    }\n",
       "</style>\n",
       "<table border=\"1\" class=\"dataframe\">\n",
       "  <thead>\n",
       "    <tr style=\"text-align: right;\">\n",
       "      <th></th>\n",
       "      <th>Source</th>\n",
       "      <th>Text</th>\n",
       "      <th>Date</th>\n",
       "      <th>Compound</th>\n",
       "      <th>Positive</th>\n",
       "      <th>Neutral</th>\n",
       "      <th>Negative</th>\n",
       "    </tr>\n",
       "  </thead>\n",
       "  <tbody>\n",
       "    <tr>\n",
       "      <th>0</th>\n",
       "      <td>BBC</td>\n",
       "      <td>A bookworm, a mountain fox and a silverback go...</td>\n",
       "      <td>Sat Nov 09 14:01:02 +0000 2019</td>\n",
       "      <td>0.0000</td>\n",
       "      <td>0.000</td>\n",
       "      <td>1.000</td>\n",
       "      <td>0.000</td>\n",
       "    </tr>\n",
       "    <tr>\n",
       "      <th>1</th>\n",
       "      <td>BBC</td>\n",
       "      <td>#LiveYourBestLife. NOW. OR ELSE! 📱😂 \\n@TomAlle...</td>\n",
       "      <td>Sat Nov 09 12:01:06 +0000 2019</td>\n",
       "      <td>0.0000</td>\n",
       "      <td>0.000</td>\n",
       "      <td>1.000</td>\n",
       "      <td>0.000</td>\n",
       "    </tr>\n",
       "    <tr>\n",
       "      <th>2</th>\n",
       "      <td>BBC</td>\n",
       "      <td>Not coming soon to a cinema near you... It's u...</td>\n",
       "      <td>Fri Nov 08 21:01:05 +0000 2019</td>\n",
       "      <td>0.6360</td>\n",
       "      <td>0.218</td>\n",
       "      <td>0.782</td>\n",
       "      <td>0.000</td>\n",
       "    </tr>\n",
       "    <tr>\n",
       "      <th>3</th>\n",
       "      <td>BBC</td>\n",
       "      <td>@Zakalwe1970 @BBCCiN @BBCiPlayer There really ...</td>\n",
       "      <td>Fri Nov 08 20:56:14 +0000 2019</td>\n",
       "      <td>-0.3566</td>\n",
       "      <td>0.000</td>\n",
       "      <td>0.801</td>\n",
       "      <td>0.199</td>\n",
       "    </tr>\n",
       "    <tr>\n",
       "      <th>4</th>\n",
       "      <td>BBC</td>\n",
       "      <td>@MendoKC @BBCCiN @BBCiPlayer Is there anything...</td>\n",
       "      <td>Fri Nov 08 20:55:22 +0000 2019</td>\n",
       "      <td>0.0000</td>\n",
       "      <td>0.000</td>\n",
       "      <td>1.000</td>\n",
       "      <td>0.000</td>\n",
       "    </tr>\n",
       "  </tbody>\n",
       "</table>\n",
       "</div>"
      ],
      "text/plain": [
       "  Source                                               Text  \\\n",
       "0    BBC  A bookworm, a mountain fox and a silverback go...   \n",
       "1    BBC  #LiveYourBestLife. NOW. OR ELSE! 📱😂 \\n@TomAlle...   \n",
       "2    BBC  Not coming soon to a cinema near you... It's u...   \n",
       "3    BBC  @Zakalwe1970 @BBCCiN @BBCiPlayer There really ...   \n",
       "4    BBC  @MendoKC @BBCCiN @BBCiPlayer Is there anything...   \n",
       "\n",
       "                             Date  Compound  Positive  Neutral  Negative  \n",
       "0  Sat Nov 09 14:01:02 +0000 2019    0.0000     0.000    1.000     0.000  \n",
       "1  Sat Nov 09 12:01:06 +0000 2019    0.0000     0.000    1.000     0.000  \n",
       "2  Fri Nov 08 21:01:05 +0000 2019    0.6360     0.218    0.782     0.000  \n",
       "3  Fri Nov 08 20:56:14 +0000 2019   -0.3566     0.000    0.801     0.199  \n",
       "4  Fri Nov 08 20:55:22 +0000 2019    0.0000     0.000    1.000     0.000  "
      ]
     },
     "execution_count": 13,
     "metadata": {},
     "output_type": "execute_result"
    }
   ],
   "source": [
    "tweet_df = pd.DataFrame(data)\n",
    "tweet_df = pd.DataFrame(tweet_df, columns=['Source', 'Text', 'Date', 'Compound', 'Positive', 'Neutral', 'Negative'])\n",
    "tweet_df.head()"
   ]
  },
  {
   "cell_type": "code",
   "execution_count": null,
   "metadata": {},
   "outputs": [],
   "source": [
    "for s in sources:\n",
    "    plt.plot"
   ]
  },
  {
   "cell_type": "code",
   "execution_count": null,
   "metadata": {},
   "outputs": [],
   "source": []
  },
  {
   "cell_type": "code",
   "execution_count": null,
   "metadata": {},
   "outputs": [],
   "source": []
  },
  {
   "cell_type": "code",
   "execution_count": null,
   "metadata": {},
   "outputs": [],
   "source": []
  },
  {
   "cell_type": "code",
   "execution_count": null,
   "metadata": {},
   "outputs": [],
   "source": []
  },
  {
   "cell_type": "code",
   "execution_count": null,
   "metadata": {},
   "outputs": [],
   "source": []
  },
  {
   "cell_type": "code",
   "execution_count": null,
   "metadata": {},
   "outputs": [],
   "source": []
  },
  {
   "cell_type": "code",
   "execution_count": null,
   "metadata": {},
   "outputs": [],
   "source": []
  },
  {
   "cell_type": "code",
   "execution_count": null,
   "metadata": {},
   "outputs": [],
   "source": []
  },
  {
   "cell_type": "code",
   "execution_count": null,
   "metadata": {},
   "outputs": [],
   "source": []
  }
 ],
 "metadata": {
  "anaconda-cloud": {},
  "kernel_info": {
   "name": "python3"
  },
  "kernelspec": {
   "display_name": "Python 3",
   "language": "python",
   "name": "python3"
  },
  "language_info": {
   "codemirror_mode": {
    "name": "ipython",
    "version": 3
   },
   "file_extension": ".py",
   "mimetype": "text/x-python",
   "name": "python",
   "nbconvert_exporter": "python",
   "pygments_lexer": "ipython3",
   "version": "3.7.3"
  },
  "nteract": {
   "version": "0.12.3"
  }
 },
 "nbformat": 4,
 "nbformat_minor": 2
}
