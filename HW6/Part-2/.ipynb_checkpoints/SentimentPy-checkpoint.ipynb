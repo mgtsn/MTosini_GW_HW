{
 "cells": [
  {
   "cell_type": "code",
   "execution_count": 16,
   "metadata": {
    "scrolled": true
   },
   "outputs": [],
   "source": [
    "# Dependencies and Setup\n",
    "import matplotlib.pyplot as plt\n",
    "import pandas as pd\n",
    "import numpy as np\n",
    "import requests\n",
    "from statistics import mean\n",
    "import tweepy\n",
    "import numpy as np\n",
    "\n",
    "# Import API key\n",
    "import sys\n",
    "sys.path.append('..\\..\\..\\config_files')\n",
    "\n",
    "from config import (consumer_key,\n",
    "                    consumer_secret,\n",
    "                    access_token,\n",
    "                    access_token_secret)\n",
    "\n",
    "#Import Sentiment Analyzer\n",
    "from vaderSentiment.vaderSentiment import SentimentIntensityAnalyzer\n",
    "analyzer = SentimentIntensityAnalyzer()"
   ]
  },
  {
   "cell_type": "code",
   "execution_count": 17,
   "metadata": {},
   "outputs": [],
   "source": [
    "#Twitter authorization\n",
    "auth = tweepy.OAuthHandler(consumer_key, consumer_secret)\n",
    "auth.set_access_token(access_token, access_token_secret)\n",
    "api = tweepy.API(auth, parser=tweepy.parsers.JSONParser())"
   ]
  },
  {
   "cell_type": "code",
   "execution_count": 18,
   "metadata": {},
   "outputs": [],
   "source": [
    "#List sources, create list to store results\n",
    "sources = ['BBC', 'CBS', 'CNN', 'foxnews', 'nytimes']\n",
    "scores = []"
   ]
  },
  {
   "cell_type": "code",
   "execution_count": 19,
   "metadata": {},
   "outputs": [],
   "source": [
    "#define function to get scores from a twitter page\n",
    "def get_sentiments(source, pages):\n",
    "    \n",
    "    sentiments = []\n",
    "    \n",
    "    for p in range(1, pages + 1):\n",
    "        public_tweets = api.user_timeline(source, page=pages)\n",
    "        for tweet in public_tweets:\n",
    "            results = analyzer.polarity_scores(tweet[\"text\"])\n",
    "            sentiments.append(results['compound'])\n",
    "            \n",
    "    return(sentiments)\n",
    "    \n",
    "    "
   ]
  },
  {
   "cell_type": "code",
   "execution_count": 20,
   "metadata": {},
   "outputs": [],
   "source": [
    "#get sentiment scores for each source\n",
    "for s in sources:\n",
    "    sentiments = get_sentiments(s, 5)\n",
    "    scores.append(sentiments)"
   ]
  },
  {
   "cell_type": "code",
   "execution_count": 28,
   "metadata": {},
   "outputs": [
    {
     "data": {
      "text/plain": [
       "0.17047"
      ]
     },
     "execution_count": 28,
     "metadata": {},
     "output_type": "execute_result"
    }
   ],
   "source": [
    "mean(scores[0])"
   ]
  },
  {
   "cell_type": "code",
   "execution_count": 35,
   "metadata": {},
   "outputs": [
    {
     "name": "stdout",
     "output_type": "stream",
     "text": [
      "{'created_at': 'Sat Nov 09 14:16:05 +0000 2019', 'id': 1193170396352335873, 'id_str': '1193170396352335873', 'text': 'A California rapid transit employee is being hailed as a hero for rescuing a man who fell onto the tracks as a trai… https://t.co/QvqgYhnbVl', 'truncated': True, 'entities': {'hashtags': [], 'symbols': [], 'user_mentions': [], 'urls': [{'url': 'https://t.co/QvqgYhnbVl', 'expanded_url': 'https://twitter.com/i/web/status/1193170396352335873', 'display_url': 'twitter.com/i/web/status/1…', 'indices': [117, 140]}]}, 'source': '<a href=\"http://www.socialflow.com\" rel=\"nofollow\">SocialFlow</a>', 'in_reply_to_status_id': None, 'in_reply_to_status_id_str': None, 'in_reply_to_user_id': None, 'in_reply_to_user_id_str': None, 'in_reply_to_screen_name': None, 'user': {'id': 759251, 'id_str': '759251', 'name': 'CNN', 'screen_name': 'CNN', 'location': '', 'description': 'It’s our job to #GoThere & tell the most difficult stories. Join us! For more breaking news updates follow @CNNBRK  & Download our app https://t.co/UCHG9M367J', 'url': 'http://t.co/IaghNW8Xm2', 'entities': {'url': {'urls': [{'url': 'http://t.co/IaghNW8Xm2', 'expanded_url': 'http://www.cnn.com', 'display_url': 'cnn.com', 'indices': [0, 22]}]}, 'description': {'urls': [{'url': 'https://t.co/UCHG9M367J', 'expanded_url': 'http://cnn.com/apps', 'display_url': 'cnn.com/apps', 'indices': [135, 158]}]}}, 'protected': False, 'followers_count': 43450042, 'friends_count': 1107, 'listed_count': 140048, 'created_at': 'Fri Feb 09 00:35:02 +0000 2007', 'favourites_count': 1437, 'utc_offset': None, 'time_zone': None, 'geo_enabled': True, 'verified': True, 'statuses_count': 271191, 'lang': None, 'contributors_enabled': False, 'is_translator': False, 'is_translation_enabled': True, 'profile_background_color': '323232', 'profile_background_image_url': 'http://abs.twimg.com/images/themes/theme1/bg.png', 'profile_background_image_url_https': 'https://abs.twimg.com/images/themes/theme1/bg.png', 'profile_background_tile': False, 'profile_image_url': 'http://pbs.twimg.com/profile_images/508960761826131968/LnvhR8ED_normal.png', 'profile_image_url_https': 'https://pbs.twimg.com/profile_images/508960761826131968/LnvhR8ED_normal.png', 'profile_banner_url': 'https://pbs.twimg.com/profile_banners/759251/1564637377', 'profile_link_color': '004287', 'profile_sidebar_border_color': '000000', 'profile_sidebar_fill_color': 'EEEEEE', 'profile_text_color': '000000', 'profile_use_background_image': False, 'has_extended_profile': False, 'default_profile': False, 'default_profile_image': False, 'can_media_tag': False, 'followed_by': False, 'following': False, 'follow_request_sent': False, 'notifications': False, 'translator_type': 'regular'}, 'geo': None, 'coordinates': None, 'place': None, 'contributors': None, 'is_quote_status': False, 'retweet_count': 49, 'favorite_count': 188, 'favorited': False, 'retweeted': False, 'possibly_sensitive': False, 'lang': 'en'}\n"
     ]
    }
   ],
   "source": [
    "public_tweets = api.user_timeline('cnn', page=1)\n",
    "for tweet in public_tweets:\n",
    "    print(tweet)\n",
    "    break"
   ]
  },
  {
   "cell_type": "code",
   "execution_count": null,
   "metadata": {},
   "outputs": [],
   "source": []
  },
  {
   "cell_type": "code",
   "execution_count": null,
   "metadata": {},
   "outputs": [],
   "source": []
  },
  {
   "cell_type": "code",
   "execution_count": null,
   "metadata": {},
   "outputs": [],
   "source": []
  },
  {
   "cell_type": "code",
   "execution_count": null,
   "metadata": {},
   "outputs": [],
   "source": []
  },
  {
   "cell_type": "code",
   "execution_count": null,
   "metadata": {},
   "outputs": [],
   "source": []
  },
  {
   "cell_type": "code",
   "execution_count": null,
   "metadata": {},
   "outputs": [],
   "source": []
  },
  {
   "cell_type": "code",
   "execution_count": null,
   "metadata": {},
   "outputs": [],
   "source": []
  },
  {
   "cell_type": "code",
   "execution_count": null,
   "metadata": {},
   "outputs": [],
   "source": []
  }
 ],
 "metadata": {
  "anaconda-cloud": {},
  "kernel_info": {
   "name": "python3"
  },
  "kernelspec": {
   "display_name": "Python 3",
   "language": "python",
   "name": "python3"
  },
  "language_info": {
   "codemirror_mode": {
    "name": "ipython",
    "version": 3
   },
   "file_extension": ".py",
   "mimetype": "text/x-python",
   "name": "python",
   "nbconvert_exporter": "python",
   "pygments_lexer": "ipython3",
   "version": "3.7.3"
  },
  "nteract": {
   "version": "0.12.3"
  }
 },
 "nbformat": 4,
 "nbformat_minor": 2
}
